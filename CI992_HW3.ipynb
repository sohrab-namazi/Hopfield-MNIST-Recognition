{
  "nbformat": 4,
  "nbformat_minor": 0,
  "metadata": {
    "colab": {
      "name": "CI992_HW3.ipynb",
      "provenance": [],
      "collapsed_sections": [],
      "toc_visible": true,
      "include_colab_link": true
    },
    "kernelspec": {
      "name": "python3",
      "display_name": "Python 3"
    },
    "language_info": {
      "name": "python"
    }
  },
  "cells": [
    {
      "cell_type": "markdown",
      "metadata": {
        "id": "view-in-github",
        "colab_type": "text"
      },
      "source": [
        "<a href=\"https://colab.research.google.com/github/sohrab-namazi/Hopfield-network-MNIST-Recognition/blob/main/CI992_HW3.ipynb\" target=\"_parent\"><img src=\"https://colab.research.google.com/assets/colab-badge.svg\" alt=\"Open In Colab\"/></a>"
      ]
    },
    {
      "cell_type": "markdown",
      "metadata": {
        "id": "C00Lhf_Zb1yr"
      },
      "source": [
        "Hopfield nwtwork"
      ]
    },
    {
      "cell_type": "code",
      "metadata": {
        "id": "LV7Xa2Sx-6cV"
      },
      "source": [
        "import numpy as np\n",
        "import matplotlib.pyplot as plt"
      ],
      "execution_count": 1,
      "outputs": []
    },
    {
      "cell_type": "code",
      "metadata": {
        "id": "bMIDe8oc_TLW"
      },
      "source": [
        "# Hopfield network structure\n",
        "\n",
        "class HopfieldNetwork:\n",
        "  def __init__(self, neuron_count, patterns_count, patterns):\n",
        "    self.neuron_count = neuron_count\n",
        "    self.patterns_count = patterns_count\n",
        "    self.patterns = patterns\n",
        "    self.weights = np.zeros((self.neuron_count, self.neuron_count), dtype=float)\n",
        "\n",
        "  def sign(self, x):\n",
        "    if x >= 0:\n",
        "      return 1\n",
        "    else:\n",
        "      return -1\n",
        "  \n",
        "  def compute_weights(self):\n",
        "      for i in range(self.patterns_count):\n",
        "        pattern = self.patterns[i]\n",
        "        for j in range(self.neuron_count):\n",
        "          for k in range(self.neuron_count):\n",
        "            if j != k:\n",
        "              self.weights[j, k] += pattern[j] * pattern[k]\n",
        "      print(self.weights)\n",
        "      return self.weights\n",
        "  \n",
        "  \n",
        "  def run(self, state):\n",
        "    is_learned_pattern = False\n",
        "    current_state = state.copy()\n",
        "    while not is_learned_pattern:\n",
        "      new_pattern = []\n",
        "      #print(\"Current State: \" + str(current_state))\n",
        "      for i in range(self.neuron_count):\n",
        "        summation = 0.0\n",
        "        for j in range(self.neuron_count):\n",
        "          if i != j:\n",
        "            summation += current_state[j] * self.weights[i, j]\n",
        "        output = self.sign(summation)\n",
        "        new_pattern.append(output)\n",
        "        current_state[i] = output\n",
        "      if new_pattern == current_state:\n",
        "        is_learned_pattern =  True\n",
        "      else:\n",
        "        current_state = new_pattern.copy()\n",
        "    return current_state\n",
        "    \n",
        "   "
      ],
      "execution_count": 2,
      "outputs": []
    },
    {
      "cell_type": "code",
      "metadata": {
        "id": "uYxCqvRdLSxh",
        "colab": {
          "base_uri": "https://localhost:8080/"
        },
        "outputId": "8b058883-bd98-460a-e5ee-88ebeffd3755"
      },
      "source": [
        "# prove that pattern = (1, 1, 1, -1, -1, -1) is stable\n",
        "\n",
        "neuron_count = 6\n",
        "patterns_count = 2\n",
        "pattern_1 = [1, 1, 1, -1, -1, -1]\n",
        "pattern_2 = [1, 1, 1, -1, -1, -1]\n",
        "state = [1, 1, 1, -1, -1, -1]\n",
        "patterns = [pattern_1, pattern_2]\n",
        "\n",
        "network = HopfieldNetwork(neuron_count, patterns_count, patterns)\n",
        "weights = network.compute_weights()\n",
        "print(\"Weights:\\n\" + str(weights))\n",
        "result = network.run(state)\n",
        "print(\"Resulting pattern: \" + str(result))\n",
        "print(\"So it directly was converted to itself in the first iteration, we can conclude that it is a STABLE state\")"
      ],
      "execution_count": 3,
      "outputs": [
        {
          "output_type": "stream",
          "name": "stdout",
          "text": [
            "[[ 0.  2.  2. -2. -2. -2.]\n",
            " [ 2.  0.  2. -2. -2. -2.]\n",
            " [ 2.  2.  0. -2. -2. -2.]\n",
            " [-2. -2. -2.  0.  2.  2.]\n",
            " [-2. -2. -2.  2.  0.  2.]\n",
            " [-2. -2. -2.  2.  2.  0.]]\n",
            "Weights:\n",
            "[[ 0.  2.  2. -2. -2. -2.]\n",
            " [ 2.  0.  2. -2. -2. -2.]\n",
            " [ 2.  2.  0. -2. -2. -2.]\n",
            " [-2. -2. -2.  0.  2.  2.]\n",
            " [-2. -2. -2.  2.  0.  2.]\n",
            " [-2. -2. -2.  2.  2.  0.]]\n",
            "Resulting pattern: [1, 1, 1, -1, -1, -1]\n",
            "So it directly was converted to itself in the first iteration, we can conclude that it is a STABLE state\n"
          ]
        }
      ]
    },
    {
      "cell_type": "code",
      "metadata": {
        "id": "hwjHsYEpf0pV",
        "colab": {
          "base_uri": "https://localhost:8080/"
        },
        "outputId": "dec34d58-7e4c-436b-e599-82804cfefb0c"
      },
      "source": [
        "# Entering pattern (-1, 1, 1, -1, -1, -1) to the network\n",
        "\n",
        "state = [-1, 1, 1, -1, -1, -1]\n",
        "print(\"Weights:\\n\" + str(weights))\n",
        "result = network.run(state)\n",
        "print(\"Resulting pattern: \" + str(result))\n",
        "print(\"So it matches the first pattern which was [1, 1, 1, -1, -1, -1]\")"
      ],
      "execution_count": 4,
      "outputs": [
        {
          "output_type": "stream",
          "name": "stdout",
          "text": [
            "Weights:\n",
            "[[ 0.  2.  2. -2. -2. -2.]\n",
            " [ 2.  0.  2. -2. -2. -2.]\n",
            " [ 2.  2.  0. -2. -2. -2.]\n",
            " [-2. -2. -2.  0.  2.  2.]\n",
            " [-2. -2. -2.  2.  0.  2.]\n",
            " [-2. -2. -2.  2.  2.  0.]]\n",
            "Resulting pattern: [1, 1, 1, -1, -1, -1]\n",
            "So it matches the first pattern which was [1, 1, 1, -1, -1, -1]\n"
          ]
        }
      ]
    },
    {
      "cell_type": "markdown",
      "metadata": {
        "id": "gMWCmByc-7H5"
      },
      "source": [
        "## MNIST by Hopfield"
      ]
    },
    {
      "cell_type": "code",
      "metadata": {
        "id": "wpWMwI6z--GX"
      },
      "source": [
        "from PIL import Image, ImageFont\n",
        "import cv2\n",
        "import numpy as np\n",
        "import random\n",
        "import math"
      ],
      "execution_count": null,
      "outputs": []
    },
    {
      "cell_type": "code",
      "metadata": {
        "id": "oVo4KCpwKCiY"
      },
      "source": [
        "def build_data(font_size):\n",
        "  font = ImageFont.truetype(\"Arial.ttf\", font_size)\n",
        "  for char in \"ABCDEFGHIJ\":\n",
        "    im = Image.Image()._new(font.getmask(char))\n",
        "    im = im.resize((img_width, img_height), Image.ANTIALIAS)\n",
        "    im.save(f\"{char}_{font_size}.bmp\")  \n",
        "\n",
        "def convert_img_to_array(path):\n",
        "  img = cv2.imread(path)\n",
        "  gray_img = cv2.cvtColor(img, cv2.COLOR_BGR2GRAY)\n",
        "  return gray_img\n",
        "\n",
        "def convert_2darray_to_1darray(arr):\n",
        "  return arr.flatten()\n",
        "\n",
        "def convert_array_to_binarr(arr):\n",
        "  bin_arr = np.where(arr >= limit_zero_one, 1, -1)\n",
        "  return bin_arr\n",
        "\n",
        "def convert_image_to_binarray(path):\n",
        "  two_d_arr = convert_img_to_array(path)\n",
        "  one_d_arr = convert_2darray_to_1darray(two_d_arr)\n",
        "  bin_arr = convert_array_to_binarr(one_d_arr)\n",
        "  return bin_arr\n",
        "\n",
        "def convert_images_to_binarrays():  \n",
        "  bin_arrays = []\n",
        "  for char in alphabets:\n",
        "    path = char + \"_\" + str(font_size) + \".bmp\"\n",
        "    bin_arr = convert_image_to_binarray(path) \n",
        "    bin_arrays.append(bin_arr)\n",
        "  return bin_arrays\n",
        "\n",
        "def add_noise_to_bin_array(bin_array, noisy_cells_count):\n",
        "  noisy_bin_array = bin_array.copy()\n",
        "  noisy_cells = random.sample(range(0, img_size), noisy_cells_count)\n",
        "  #print(\"noisy cells: \" + str(noisy_cells))\n",
        "  for noisy_cell in noisy_cells:\n",
        "    current_value = bin_array[noisy_cell]\n",
        "    noisy_value = None\n",
        "    if current_value == 1:\n",
        "      noisy_value = -1\n",
        "    else:\n",
        "      noisy_value = 1\n",
        "    noisy_bin_array[noisy_cell] = noisy_value\n",
        "  return noisy_bin_array\n",
        "  \n",
        "def compare_lists(list1, list2):\n",
        "  for i in range(img_size):\n",
        "    a = list1[i]\n",
        "    b = list2[i]\n",
        "    if a == b:\n",
        "      continue\n",
        "    else:\n",
        "      print(\"Different\")\n",
        "      return\n",
        "  print(\"Same\")\n",
        "\n",
        "def compute_patterns_diff_count(list1, list2):\n",
        "  diff_count = 0\n",
        "  for i in range(img_size):\n",
        "    a = list1[i]\n",
        "    b = list2[i]\n",
        "    if a == b:\n",
        "      continue\n",
        "    else:\n",
        "      diff_count += 1\n",
        "  return diff_count\n",
        "        \n",
        "def compare_patterns(patterns):\n",
        "  for i in range(patterns_count):\n",
        "    for j in range(patterns_count):\n",
        "      if i != j:\n",
        "        compare_lists(patterns[i], patterns[j])\n",
        "\n",
        "\n",
        "def find_closest_matching_pattern(input_pattern, patterns):\n",
        "  i = 0\n",
        "  result = None\n",
        "  min_diff_count = math.inf\n",
        "  for pattern in patterns:\n",
        "    diff_count = compute_patterns_diff_count(pattern.tolist(), input_pattern)\n",
        "    if diff_count < min_diff_count:\n",
        "      min_diff_count = diff_count\n",
        "      result = i\n",
        "    i += 1\n",
        "  return result\n",
        "\n",
        "def run_test(test_count, noise_percentage):\n",
        "  patterns = convert_images_to_binarrays()\n",
        "  patterns_count = len(patterns)\n",
        "  network = HopfieldNetwork(img_width * img_height, patterns_count, patterns)\n",
        "  network.compute_weights()\n",
        "  true_diagnosis_count = 0\n",
        "  for i in range(test_count):\n",
        "    pattern_index = random.randint(0, patterns_count - 1)\n",
        "    #print(\"noisy pattern index: \" + str(pattern_index))\n",
        "    pattern = patterns[pattern_index]\n",
        "    noisy_cells_count = int(noise_percentage * img_size / 100)\n",
        "    input = add_noise_to_bin_array(pattern, noisy_cells_count)\n",
        "    output = network.run(input.tolist())\n",
        "    #print(\"Input: \" + str(input.tolist()))\n",
        "    #print(\"Output pattern: \" + str(output))\n",
        "    result_index = find_closest_matching_pattern(output, patterns)\n",
        "    #print(\"resulting pattern index: \" + str(result_index))\n",
        "    if pattern_index == result_index:\n",
        "      true_diagnosis_count += 1\n",
        "      print(\"network successfully verified character: \" + alphabets[pattern_index]) \n",
        "    #print(\"\\n\")\n",
        "  acc_percentage = (true_diagnosis_count / test_count * 100)\n",
        "  print(\"******************************************\\n\\nTest finished, here is the result:\\n\\tAccruacy = \" + str(acc_percentage) + \"%\")"
      ],
      "execution_count": null,
      "outputs": []
    },
    {
      "cell_type": "code",
      "metadata": {
        "id": "2dfj9XvSIKn2"
      },
      "source": [
        "# set parameters (constant for all cases)\n",
        "img_width = 10\n",
        "img_height = 12\n",
        "img_size = img_height * img_width\n",
        "test_count = 10\n",
        "limit_zero_one = 20\n",
        "alphabets = \"ABCDEFGHIJ\""
      ],
      "execution_count": null,
      "outputs": []
    },
    {
      "cell_type": "code",
      "metadata": {
        "colab": {
          "base_uri": "https://localhost:8080/"
        },
        "id": "48PxO5ke7NWe",
        "outputId": "401c2564-14ad-431d-e4ad-8a0ef404040d"
      },
      "source": [
        "# noise = 60%, Font size = 16\n",
        "noise_amount = 60 # noise amount unit is percantage\n",
        "font_size = 16\n",
        "build_data(font_size)\n",
        "run_test(test_count, noise_amount)"
      ],
      "execution_count": null,
      "outputs": [
        {
          "output_type": "stream",
          "text": [
            "[[ 0.  4.  0. ... -6.  0.  6.]\n",
            " [ 4.  0.  6. ... -4. -2.  0.]\n",
            " [ 0.  6.  0. ...  0. -2. -4.]\n",
            " ...\n",
            " [-6. -4.  0. ...  0.  4. -6.]\n",
            " [ 0. -2. -2. ...  4.  0.  0.]\n",
            " [ 6.  0. -4. ... -6.  0.  0.]]\n",
            "network successfully verified character: A\n",
            "******************************************\n",
            "\n",
            "Test finished, here is the result:\n",
            "\tAccruacy = 10.0%\n"
          ],
          "name": "stdout"
        }
      ]
    },
    {
      "cell_type": "code",
      "metadata": {
        "id": "LX5R4FpxIV9h",
        "colab": {
          "base_uri": "https://localhost:8080/"
        },
        "outputId": "abafef70-ef41-4377-c075-56ab8fa6d4a1"
      },
      "source": [
        "# noise = 30%, Font size = 16\n",
        "noise_amount = 30 # noise amount unit is percantage\n",
        "font_size = 16\n",
        "build_data(font_size)\n",
        "run_test(test_count, noise_amount)"
      ],
      "execution_count": null,
      "outputs": [
        {
          "output_type": "stream",
          "text": [
            "[[ 0.  4.  0. ... -6.  0.  6.]\n",
            " [ 4.  0.  6. ... -4. -2.  0.]\n",
            " [ 0.  6.  0. ...  0. -2. -4.]\n",
            " ...\n",
            " [-6. -4.  0. ...  0.  4. -6.]\n",
            " [ 0. -2. -2. ...  4.  0.  0.]\n",
            " [ 6.  0. -4. ... -6.  0.  0.]]\n",
            "network successfully verified character: C\n",
            "network successfully verified character: C\n",
            "network successfully verified character: C\n",
            "network successfully verified character: H\n",
            "network successfully verified character: A\n",
            "network successfully verified character: B\n",
            "******************************************\n",
            "\n",
            "Test finished, here is the result:\n",
            "\tAccruacy = 60.0%\n"
          ],
          "name": "stdout"
        }
      ]
    },
    {
      "cell_type": "code",
      "metadata": {
        "colab": {
          "base_uri": "https://localhost:8080/"
        },
        "id": "ENsr3z0PKv7w",
        "outputId": "d0a833a3-4cfc-4072-e881-6e2e3b938806"
      },
      "source": [
        "# noise = 10%, Font size = 16\n",
        "noise_amount = 10 # noise amount unit is percantage\n",
        "font_size = 16\n",
        "build_data(font_size)\n",
        "run_test(test_count, noise_amount)"
      ],
      "execution_count": null,
      "outputs": [
        {
          "output_type": "stream",
          "text": [
            "[[ 0.  4.  0. ... -6.  0.  6.]\n",
            " [ 4.  0.  6. ... -4. -2.  0.]\n",
            " [ 0.  6.  0. ...  0. -2. -4.]\n",
            " ...\n",
            " [-6. -4.  0. ...  0.  4. -6.]\n",
            " [ 0. -2. -2. ...  4.  0.  0.]\n",
            " [ 6.  0. -4. ... -6.  0.  0.]]\n",
            "network successfully verified character: C\n",
            "network successfully verified character: I\n",
            "network successfully verified character: C\n",
            "network successfully verified character: C\n",
            "network successfully verified character: A\n",
            "network successfully verified character: C\n",
            "network successfully verified character: B\n",
            "******************************************\n",
            "\n",
            "Test finished, here is the result:\n",
            "\tAccruacy = 70.0%\n"
          ],
          "name": "stdout"
        }
      ]
    },
    {
      "cell_type": "code",
      "metadata": {
        "colab": {
          "base_uri": "https://localhost:8080/"
        },
        "id": "JIQzzVxmK24f",
        "outputId": "930882af-123f-4a28-99de-4e70dbc82a74"
      },
      "source": [
        "# noise = 60%, Font size = 32\n",
        "test_count = 100\n",
        "noise_amount = 60 # noise amount unit is percantage\n",
        "font_size = 32\n",
        "build_data(font_size)\n",
        "run_test(test_count, noise_amount)"
      ],
      "execution_count": null,
      "outputs": [
        {
          "output_type": "stream",
          "text": [
            "[[ 0.  0. -4. ... -6.  2.  6.]\n",
            " [ 0.  0.  6. ...  0.  4.  0.]\n",
            " [-4.  6.  0. ...  4.  0. -4.]\n",
            " ...\n",
            " [-6.  0.  4. ...  0.  2. -2.]\n",
            " [ 2.  4.  0. ...  2.  0.  6.]\n",
            " [ 6.  0. -4. ... -2.  6.  0.]]\n",
            "network successfully verified character: I\n",
            "network successfully verified character: I\n",
            "network successfully verified character: I\n",
            "******************************************\n",
            "\n",
            "Test finished, here is the result:\n",
            "\tAccruacy = 3.0%\n"
          ],
          "name": "stdout"
        }
      ]
    },
    {
      "cell_type": "code",
      "metadata": {
        "colab": {
          "base_uri": "https://localhost:8080/"
        },
        "id": "15vQDhb3MGoU",
        "outputId": "f746d41f-7640-4344-e607-a5adead361e6"
      },
      "source": [
        "# noise = 30%, Font size = 32\n",
        "noise_amount = 30 # noise amount unit is percantage\n",
        "font_size = 32\n",
        "build_data(font_size)\n",
        "run_test(test_count, noise_amount)"
      ],
      "execution_count": null,
      "outputs": [
        {
          "output_type": "stream",
          "text": [
            "[[ 0.  0. -4. ... -6.  2.  6.]\n",
            " [ 0.  0.  6. ...  0.  4.  0.]\n",
            " [-4.  6.  0. ...  4.  0. -4.]\n",
            " ...\n",
            " [-6.  0.  4. ...  0.  2. -2.]\n",
            " [ 2.  4.  0. ...  2.  0.  6.]\n",
            " [ 6.  0. -4. ... -2.  6.  0.]]\n",
            "network successfully verified character: I\n",
            "network successfully verified character: I\n",
            "network successfully verified character: D\n",
            "network successfully verified character: D\n",
            "network successfully verified character: I\n",
            "network successfully verified character: B\n",
            "network successfully verified character: I\n",
            "network successfully verified character: B\n",
            "network successfully verified character: A\n",
            "network successfully verified character: H\n",
            "network successfully verified character: B\n",
            "network successfully verified character: D\n",
            "network successfully verified character: D\n",
            "network successfully verified character: J\n",
            "network successfully verified character: D\n",
            "network successfully verified character: D\n",
            "network successfully verified character: I\n",
            "network successfully verified character: A\n",
            "network successfully verified character: I\n",
            "network successfully verified character: B\n",
            "network successfully verified character: I\n",
            "network successfully verified character: A\n",
            "network successfully verified character: B\n",
            "network successfully verified character: I\n",
            "network successfully verified character: D\n",
            "network successfully verified character: E\n",
            "network successfully verified character: I\n",
            "network successfully verified character: J\n",
            "network successfully verified character: D\n",
            "network successfully verified character: H\n",
            "network successfully verified character: D\n",
            "network successfully verified character: D\n",
            "******************************************\n",
            "\n",
            "Test finished, here is the result:\n",
            "\tAccruacy = 32.0%\n"
          ],
          "name": "stdout"
        }
      ]
    },
    {
      "cell_type": "code",
      "metadata": {
        "colab": {
          "base_uri": "https://localhost:8080/"
        },
        "id": "s0JOoWauMSMP",
        "outputId": "54679b16-c564-4c30-c062-ae5f9929025c"
      },
      "source": [
        "# noise = 10%, Font size = 32\n",
        "noise_amount = 10 # noise amount unit is percantage\n",
        "font_size = 32\n",
        "build_data(font_size)\n",
        "run_test(test_count, noise_amount)"
      ],
      "execution_count": null,
      "outputs": [
        {
          "output_type": "stream",
          "text": [
            "[[ 0.  0. -4. ... -6.  2.  6.]\n",
            " [ 0.  0.  6. ...  0.  4.  0.]\n",
            " [-4.  6.  0. ...  4.  0. -4.]\n",
            " ...\n",
            " [-6.  0.  4. ...  0.  2. -2.]\n",
            " [ 2.  4.  0. ...  2.  0.  6.]\n",
            " [ 6.  0. -4. ... -2.  6.  0.]]\n",
            "network successfully verified character: A\n",
            "network successfully verified character: B\n",
            "network successfully verified character: A\n",
            "network successfully verified character: I\n",
            "network successfully verified character: I\n",
            "network successfully verified character: A\n",
            "network successfully verified character: A\n",
            "network successfully verified character: A\n",
            "network successfully verified character: I\n",
            "network successfully verified character: D\n",
            "network successfully verified character: B\n",
            "network successfully verified character: G\n",
            "network successfully verified character: D\n",
            "network successfully verified character: A\n",
            "network successfully verified character: B\n",
            "network successfully verified character: A\n",
            "network successfully verified character: D\n",
            "network successfully verified character: A\n",
            "network successfully verified character: B\n",
            "network successfully verified character: J\n",
            "network successfully verified character: D\n",
            "network successfully verified character: B\n",
            "network successfully verified character: B\n",
            "network successfully verified character: D\n",
            "network successfully verified character: D\n",
            "network successfully verified character: D\n",
            "network successfully verified character: B\n",
            "network successfully verified character: B\n",
            "network successfully verified character: B\n",
            "network successfully verified character: B\n",
            "network successfully verified character: B\n",
            "network successfully verified character: J\n",
            "network successfully verified character: I\n",
            "network successfully verified character: I\n",
            "network successfully verified character: I\n",
            "network successfully verified character: D\n",
            "network successfully verified character: I\n",
            "network successfully verified character: I\n",
            "network successfully verified character: D\n",
            "network successfully verified character: I\n",
            "network successfully verified character: D\n",
            "network successfully verified character: D\n",
            "******************************************\n",
            "\n",
            "Test finished, here is the result:\n",
            "\tAccruacy = 42.0%\n"
          ],
          "name": "stdout"
        }
      ]
    },
    {
      "cell_type": "code",
      "metadata": {
        "colab": {
          "base_uri": "https://localhost:8080/"
        },
        "id": "JTu6OT3zMYG7",
        "outputId": "b3917593-135c-4cac-dfd9-c50e7a8b6162"
      },
      "source": [
        "# noise = 60%, Font size = 64\n",
        "noise_amount = 60 # noise amount unit is percantage\n",
        "font_size = 64\n",
        "build_data(font_size)\n",
        "run_test(test_count, noise_amount)"
      ],
      "execution_count": null,
      "outputs": [
        {
          "output_type": "stream",
          "text": [
            "[[ 0.  0. -2. ... -4.  4.  6.]\n",
            " [ 0.  0.  8. ...  2.  2.  0.]\n",
            " [-2.  8.  0. ...  4.  0. -2.]\n",
            " ...\n",
            " [-4.  2.  4. ...  0. -2. -4.]\n",
            " [ 4.  2.  0. ... -2.  0.  8.]\n",
            " [ 6.  0. -2. ... -4.  8.  0.]]\n",
            "network successfully verified character: I\n",
            "network successfully verified character: I\n",
            "******************************************\n",
            "\n",
            "Test finished, here is the result:\n",
            "\tAccruacy = 2.0%\n"
          ],
          "name": "stdout"
        }
      ]
    },
    {
      "cell_type": "code",
      "metadata": {
        "colab": {
          "base_uri": "https://localhost:8080/"
        },
        "id": "L4kDVmmiMdVq",
        "outputId": "be2aa150-937c-4785-b8bf-75a8d3604b3d"
      },
      "source": [
        "# noise = 30%, Font size = 64\n",
        "noise_amount = 30 # noise amount unit is percantage\n",
        "font_size = 64\n",
        "build_data(font_size)\n",
        "run_test(test_count, noise_amount)"
      ],
      "execution_count": null,
      "outputs": [
        {
          "output_type": "stream",
          "text": [
            "[[ 0.  0. -2. ... -4.  4.  6.]\n",
            " [ 0.  0.  8. ...  2.  2.  0.]\n",
            " [-2.  8.  0. ...  4.  0. -2.]\n",
            " ...\n",
            " [-4.  2.  4. ...  0. -2. -4.]\n",
            " [ 4.  2.  0. ... -2.  0.  8.]\n",
            " [ 6.  0. -2. ... -4.  8.  0.]]\n",
            "network successfully verified character: A\n",
            "network successfully verified character: J\n",
            "network successfully verified character: B\n",
            "network successfully verified character: I\n",
            "network successfully verified character: B\n",
            "network successfully verified character: D\n",
            "network successfully verified character: D\n",
            "network successfully verified character: B\n",
            "network successfully verified character: D\n",
            "network successfully verified character: D\n",
            "network successfully verified character: D\n",
            "network successfully verified character: D\n",
            "network successfully verified character: B\n",
            "network successfully verified character: B\n",
            "network successfully verified character: B\n",
            "network successfully verified character: I\n",
            "network successfully verified character: I\n",
            "network successfully verified character: B\n",
            "network successfully verified character: D\n",
            "network successfully verified character: I\n",
            "network successfully verified character: A\n",
            "network successfully verified character: A\n",
            "network successfully verified character: B\n",
            "network successfully verified character: J\n",
            "network successfully verified character: A\n",
            "network successfully verified character: I\n",
            "network successfully verified character: I\n",
            "network successfully verified character: B\n",
            "network successfully verified character: D\n",
            "network successfully verified character: I\n",
            "network successfully verified character: I\n",
            "network successfully verified character: D\n",
            "network successfully verified character: B\n",
            "network successfully verified character: I\n",
            "network successfully verified character: D\n",
            "network successfully verified character: B\n",
            "network successfully verified character: A\n",
            "******************************************\n",
            "\n",
            "Test finished, here is the result:\n",
            "\tAccruacy = 37.0%\n"
          ],
          "name": "stdout"
        }
      ]
    },
    {
      "cell_type": "code",
      "metadata": {
        "colab": {
          "base_uri": "https://localhost:8080/"
        },
        "id": "eoERRUiRMh8H",
        "outputId": "41343545-51a2-4b57-9de2-30cd519b657d"
      },
      "source": [
        "# noise = 60%, Font size = 64\n",
        "noise_amount = 10 # noise amount unit is percantage\n",
        "font_size = 64\n",
        "build_data(font_size)\n",
        "run_test(test_count, noise_amount)"
      ],
      "execution_count": null,
      "outputs": [
        {
          "output_type": "stream",
          "text": [
            "[[ 0.  0. -2. ... -4.  4.  6.]\n",
            " [ 0.  0.  8. ...  2.  2.  0.]\n",
            " [-2.  8.  0. ...  4.  0. -2.]\n",
            " ...\n",
            " [-4.  2.  4. ...  0. -2. -4.]\n",
            " [ 4.  2.  0. ... -2.  0.  8.]\n",
            " [ 6.  0. -2. ... -4.  8.  0.]]\n",
            "network successfully verified character: B\n",
            "network successfully verified character: B\n",
            "network successfully verified character: B\n",
            "network successfully verified character: D\n",
            "network successfully verified character: A\n",
            "network successfully verified character: B\n",
            "network successfully verified character: I\n",
            "network successfully verified character: B\n",
            "network successfully verified character: A\n",
            "network successfully verified character: A\n",
            "network successfully verified character: I\n",
            "network successfully verified character: A\n",
            "network successfully verified character: A\n",
            "network successfully verified character: A\n",
            "network successfully verified character: I\n",
            "network successfully verified character: A\n",
            "network successfully verified character: A\n",
            "network successfully verified character: J\n",
            "network successfully verified character: D\n",
            "network successfully verified character: A\n",
            "network successfully verified character: I\n",
            "network successfully verified character: B\n",
            "network successfully verified character: A\n",
            "network successfully verified character: D\n",
            "network successfully verified character: I\n",
            "network successfully verified character: D\n",
            "network successfully verified character: D\n",
            "network successfully verified character: A\n",
            "network successfully verified character: B\n",
            "network successfully verified character: D\n",
            "network successfully verified character: I\n",
            "network successfully verified character: I\n",
            "network successfully verified character: B\n",
            "network successfully verified character: I\n",
            "network successfully verified character: B\n",
            "network successfully verified character: D\n",
            "network successfully verified character: A\n",
            "network successfully verified character: A\n",
            "network successfully verified character: D\n",
            "network successfully verified character: D\n",
            "network successfully verified character: B\n",
            "******************************************\n",
            "\n",
            "Test finished, here is the result:\n",
            "\tAccruacy = 41.0%\n"
          ],
          "name": "stdout"
        }
      ]
    }
  ]
}